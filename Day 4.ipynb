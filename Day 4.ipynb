{
 "cells": [
  {
   "cell_type": "markdown",
   "id": "28156553",
   "metadata": {},
   "source": [
    "# List\n"
   ]
  },
  {
   "cell_type": "code",
   "execution_count": 2,
   "id": "0ca81956",
   "metadata": {},
   "outputs": [],
   "source": [
    "lst =[1,2,3, 'Hi' ,2.633333, 'Shiv' ,'Hexcode']"
   ]
  },
  {
   "cell_type": "code",
   "execution_count": 3,
   "id": "9280b0a7",
   "metadata": {},
   "outputs": [
    {
     "data": {
      "text/plain": [
       "list"
      ]
     },
     "execution_count": 3,
     "metadata": {},
     "output_type": "execute_result"
    }
   ],
   "source": [
    "type(lst)"
   ]
  },
  {
   "cell_type": "code",
   "execution_count": 14,
   "id": "ad978e8f",
   "metadata": {},
   "outputs": [
    {
     "data": {
      "text/plain": [
       "3"
      ]
     },
     "execution_count": 14,
     "metadata": {},
     "output_type": "execute_result"
    }
   ],
   "source": [
    "lst[2]"
   ]
  },
  {
   "cell_type": "code",
   "execution_count": 13,
   "id": "d49e7e79",
   "metadata": {},
   "outputs": [
    {
     "data": {
      "text/plain": [
       "int"
      ]
     },
     "execution_count": 13,
     "metadata": {},
     "output_type": "execute_result"
    }
   ],
   "source": [
    "type(lst[2])"
   ]
  },
  {
   "cell_type": "code",
   "execution_count": 16,
   "id": "a7912103",
   "metadata": {},
   "outputs": [],
   "source": [
    "lst=[1,2,3, 'Bye' , 2.7367, 'Utkarsh' ,'Malla']"
   ]
  },
  {
   "cell_type": "code",
   "execution_count": 28,
   "id": "533bdf3b",
   "metadata": {},
   "outputs": [
    {
     "data": {
      "text/plain": [
       "'Utkarsh Malla'"
      ]
     },
     "execution_count": 28,
     "metadata": {},
     "output_type": "execute_result"
    }
   ],
   "source": [
    "lst[5]+' '+lst[6]"
   ]
  },
  {
   "cell_type": "code",
   "execution_count": 27,
   "id": "82c2cc99",
   "metadata": {},
   "outputs": [
    {
     "data": {
      "text/plain": [
       "7"
      ]
     },
     "execution_count": 27,
     "metadata": {},
     "output_type": "execute_result"
    }
   ],
   "source": [
    "len(lst)"
   ]
  },
  {
   "cell_type": "code",
   "execution_count": 29,
   "id": "7946162e",
   "metadata": {},
   "outputs": [
    {
     "data": {
      "text/plain": [
       "[3, 'Bye', 2.7367, 'Utkarsh']"
      ]
     },
     "execution_count": 29,
     "metadata": {},
     "output_type": "execute_result"
    }
   ],
   "source": [
    "lst[2:6]"
   ]
  },
  {
   "cell_type": "code",
   "execution_count": 31,
   "id": "a7bb5347",
   "metadata": {},
   "outputs": [],
   "source": [
    "lst1=[] #empty list"
   ]
  },
  {
   "cell_type": "code",
   "execution_count": 32,
   "id": "27e2c89f",
   "metadata": {},
   "outputs": [],
   "source": [
    "lst1.append('Hex') #add string in empty list"
   ]
  },
  {
   "cell_type": "code",
   "execution_count": 33,
   "id": "c4a55e76",
   "metadata": {},
   "outputs": [
    {
     "data": {
      "text/plain": [
       "['Hex']"
      ]
     },
     "execution_count": 33,
     "metadata": {},
     "output_type": "execute_result"
    }
   ],
   "source": [
    "lst1"
   ]
  },
  {
   "cell_type": "code",
   "execution_count": 34,
   "id": "da5d5da3",
   "metadata": {},
   "outputs": [],
   "source": [
    "lst2=[]"
   ]
  },
  {
   "cell_type": "code",
   "execution_count": 36,
   "id": "db07891b",
   "metadata": {},
   "outputs": [],
   "source": [
    "lst2.append('Utkarsh')"
   ]
  },
  {
   "cell_type": "code",
   "execution_count": 37,
   "id": "dc88ce89",
   "metadata": {},
   "outputs": [
    {
     "data": {
      "text/plain": [
       "['Utkarsh']"
      ]
     },
     "execution_count": 37,
     "metadata": {},
     "output_type": "execute_result"
    }
   ],
   "source": [
    "lst2"
   ]
  },
  {
   "cell_type": "code",
   "execution_count": 39,
   "id": "3bd885e3",
   "metadata": {},
   "outputs": [],
   "source": [
    "lst2.append('Nepal')"
   ]
  },
  {
   "cell_type": "code",
   "execution_count": 40,
   "id": "cbdf88fb",
   "metadata": {},
   "outputs": [],
   "source": [
    "lst2.append('2007')"
   ]
  },
  {
   "cell_type": "code",
   "execution_count": 41,
   "id": "b441fb43",
   "metadata": {},
   "outputs": [],
   "source": [
    "lst2.append('Python')"
   ]
  },
  {
   "cell_type": "code",
   "execution_count": 42,
   "id": "a34b43cb",
   "metadata": {},
   "outputs": [
    {
     "data": {
      "text/plain": [
       "['Utkarsh', 'Nepal', '2007', 'Python']"
      ]
     },
     "execution_count": 42,
     "metadata": {},
     "output_type": "execute_result"
    }
   ],
   "source": [
    "lst2"
   ]
  },
  {
   "cell_type": "code",
   "execution_count": 45,
   "id": "a250d0e9",
   "metadata": {},
   "outputs": [],
   "source": [
    "lst2.insert(1,\"Code\") #insert string in particular position\n"
   ]
  },
  {
   "cell_type": "code",
   "execution_count": 44,
   "id": "68d7acd1",
   "metadata": {},
   "outputs": [
    {
     "data": {
      "text/plain": [
       "['Utkarsh', 'Code', 'Nepal', '2007', 'Python']"
      ]
     },
     "execution_count": 44,
     "metadata": {},
     "output_type": "execute_result"
    }
   ],
   "source": [
    "lst2"
   ]
  },
  {
   "cell_type": "code",
   "execution_count": 47,
   "id": "b7e2188b",
   "metadata": {},
   "outputs": [],
   "source": [
    "lst2[1]='Don' #replace"
   ]
  },
  {
   "cell_type": "code",
   "execution_count": 50,
   "id": "b02b505d",
   "metadata": {},
   "outputs": [
    {
     "data": {
      "text/plain": [
       "['Utkarsh', 'Don', 'Code', 'Nepal', '2007', 'Python']"
      ]
     },
     "execution_count": 50,
     "metadata": {},
     "output_type": "execute_result"
    }
   ],
   "source": [
    "lst2"
   ]
  },
  {
   "cell_type": "code",
   "execution_count": 53,
   "id": "55eb26ef",
   "metadata": {},
   "outputs": [],
   "source": [
    "lst3=[]"
   ]
  },
  {
   "cell_type": "code",
   "execution_count": 54,
   "id": "18e2541b",
   "metadata": {},
   "outputs": [],
   "source": [
    "lst3.append('Apple')"
   ]
  },
  {
   "cell_type": "code",
   "execution_count": 55,
   "id": "2abfc689",
   "metadata": {},
   "outputs": [],
   "source": [
    "last3.append('Ball')"
   ]
  },
  {
   "cell_type": "code",
   "execution_count": 56,
   "id": "bd142a03",
   "metadata": {},
   "outputs": [],
   "source": [
    "lst3.append('Mobile')"
   ]
  },
  {
   "cell_type": "code",
   "execution_count": 61,
   "id": "db880ef5",
   "metadata": {},
   "outputs": [],
   "source": [
    "lst3.append('Goat')"
   ]
  },
  {
   "cell_type": "code",
   "execution_count": 62,
   "id": "1a96f223",
   "metadata": {},
   "outputs": [
    {
     "data": {
      "text/plain": [
       "['Apple', 'Dog', 'Apple', 'Goat', 'Goat']"
      ]
     },
     "execution_count": 62,
     "metadata": {},
     "output_type": "execute_result"
    }
   ],
   "source": [
    "lst3"
   ]
  },
  {
   "cell_type": "code",
   "execution_count": 63,
   "id": "38232787",
   "metadata": {},
   "outputs": [],
   "source": [
    "lst3[1]='Dog'"
   ]
  },
  {
   "cell_type": "code",
   "execution_count": 64,
   "id": "6b70532d",
   "metadata": {},
   "outputs": [
    {
     "data": {
      "text/plain": [
       "['Apple', 'Dog', 'Apple', 'Goat', 'Goat']"
      ]
     },
     "execution_count": 64,
     "metadata": {},
     "output_type": "execute_result"
    }
   ],
   "source": [
    "lst3"
   ]
  },
  {
   "cell_type": "code",
   "execution_count": 73,
   "id": "e495ecce",
   "metadata": {},
   "outputs": [],
   "source": [
    "lst3[1:4]=['Dim', 'USA', 'Lion', 'Cat'] #replace multiple"
   ]
  },
  {
   "cell_type": "code",
   "execution_count": 74,
   "id": "a2de79da",
   "metadata": {},
   "outputs": [
    {
     "data": {
      "text/plain": [
       "['Apple', 'Dim', 'USA', 'Lion', 'Cat', 'Cat', 'Goat']"
      ]
     },
     "execution_count": 74,
     "metadata": {},
     "output_type": "execute_result"
    }
   ],
   "source": [
    "lst3"
   ]
  },
  {
   "cell_type": "code",
   "execution_count": 85,
   "id": "c76ecfa6",
   "metadata": {},
   "outputs": [],
   "source": [
    "lst3.remove('USA') #remove remove the word"
   ]
  },
  {
   "cell_type": "code",
   "execution_count": 86,
   "id": "37d98488",
   "metadata": {},
   "outputs": [
    {
     "data": {
      "text/plain": [
       "['Apple', 'Lion', 'Cat', 'Cat', 'Goat']"
      ]
     },
     "execution_count": 86,
     "metadata": {},
     "output_type": "execute_result"
    }
   ],
   "source": [
    "lst3"
   ]
  },
  {
   "cell_type": "code",
   "execution_count": 87,
   "id": "533c7ac6",
   "metadata": {},
   "outputs": [],
   "source": [
    "#lst. tab for all the functions"
   ]
  },
  {
   "cell_type": "code",
   "execution_count": 90,
   "id": "1a0686c0",
   "metadata": {},
   "outputs": [
    {
     "data": {
      "text/plain": [
       "False"
      ]
     },
     "execution_count": 90,
     "metadata": {},
     "output_type": "execute_result"
    }
   ],
   "source": [
    "1 in lst3 #checking the element is in list or not"
   ]
  },
  {
   "cell_type": "code",
   "execution_count": 91,
   "id": "8677c46c",
   "metadata": {},
   "outputs": [
    {
     "data": {
      "text/plain": [
       "True"
      ]
     },
     "execution_count": 91,
     "metadata": {},
     "output_type": "execute_result"
    }
   ],
   "source": [
    "'Apple' in lst3"
   ]
  },
  {
   "cell_type": "markdown",
   "id": "1e6ceb08",
   "metadata": {},
   "source": [
    "# Dictionary"
   ]
  },
  {
   "cell_type": "code",
   "execution_count": 104,
   "id": "9fc6d5be",
   "metadata": {},
   "outputs": [],
   "source": [
    "info={'Name': 'Utkarsh Malla', 'Roll':'20','College':'Medhavi', 'Semester':'2','Programme':'BCIS'}"
   ]
  },
  {
   "cell_type": "code",
   "execution_count": 105,
   "id": "63d237a2",
   "metadata": {},
   "outputs": [
    {
     "data": {
      "text/plain": [
       "dict_keys(['Name', 'Roll', 'College', 'Semester', 'Programme'])"
      ]
     },
     "execution_count": 105,
     "metadata": {},
     "output_type": "execute_result"
    }
   ],
   "source": [
    "info.keys() #to diaplay keys word"
   ]
  },
  {
   "cell_type": "code",
   "execution_count": 106,
   "id": "3d846a01",
   "metadata": {},
   "outputs": [
    {
     "data": {
      "text/plain": [
       "'Medhavi'"
      ]
     },
     "execution_count": 106,
     "metadata": {},
     "output_type": "execute_result"
    }
   ],
   "source": [
    "info['College'] #to print required part"
   ]
  },
  {
   "cell_type": "code",
   "execution_count": 107,
   "id": "db7146da",
   "metadata": {},
   "outputs": [],
   "source": [
    "info['College']='Herald' #to change the required string"
   ]
  },
  {
   "cell_type": "code",
   "execution_count": 108,
   "id": "1a8a35a7",
   "metadata": {},
   "outputs": [
    {
     "data": {
      "text/plain": [
       "{'Name': 'Utkarsh Malla',\n",
       " 'Roll': '20',\n",
       " 'College': 'Herald',\n",
       " 'Semester': '2',\n",
       " 'Programme': 'BCIS'}"
      ]
     },
     "execution_count": 108,
     "metadata": {},
     "output_type": "execute_result"
    }
   ],
   "source": [
    "info"
   ]
  },
  {
   "cell_type": "code",
   "execution_count": 110,
   "id": "828350d7",
   "metadata": {},
   "outputs": [
    {
     "data": {
      "text/plain": [
       "dict_values(['Utkarsh Malla', '20', 'Herald', '2', 'BCIS'])"
      ]
     },
     "execution_count": 110,
     "metadata": {},
     "output_type": "execute_result"
    }
   ],
   "source": [
    "info.values()\n"
   ]
  },
  {
   "cell_type": "code",
   "execution_count": 114,
   "id": "fd4c7554",
   "metadata": {},
   "outputs": [],
   "source": [
    "info['Remarks']='Topper' #add new class"
   ]
  },
  {
   "cell_type": "code",
   "execution_count": 115,
   "id": "17971ea7",
   "metadata": {},
   "outputs": [
    {
     "data": {
      "text/plain": [
       "{'Name': 'Utkarsh Malla',\n",
       " 'Roll': '20',\n",
       " 'College': 'Herald',\n",
       " 'Semester': '2',\n",
       " 'Programme': 'BCIS',\n",
       " 'Remarks': 'Topper'}"
      ]
     },
     "execution_count": 115,
     "metadata": {},
     "output_type": "execute_result"
    }
   ],
   "source": [
    "info"
   ]
  },
  {
   "cell_type": "code",
   "execution_count": 121,
   "id": "cbf38c3d",
   "metadata": {},
   "outputs": [
    {
     "data": {
      "text/plain": [
       "'20'"
      ]
     },
     "execution_count": 121,
     "metadata": {},
     "output_type": "execute_result"
    }
   ],
   "source": [
    "info.pop('Roll') #pop takes out the required string"
   ]
  },
  {
   "cell_type": "code",
   "execution_count": 122,
   "id": "3c6aea02",
   "metadata": {},
   "outputs": [
    {
     "data": {
      "text/plain": [
       "{'Name': 'Utkarsh Malla',\n",
       " 'College': 'Herald',\n",
       " 'Semester': '2',\n",
       " 'Programme': 'BCIS'}"
      ]
     },
     "execution_count": 122,
     "metadata": {},
     "output_type": "execute_result"
    }
   ],
   "source": [
    "info\n"
   ]
  },
  {
   "cell_type": "code",
   "execution_count": 123,
   "id": "3c9fd458",
   "metadata": {},
   "outputs": [
    {
     "data": {
      "text/plain": [
       "('Programme', 'BCIS')"
      ]
     },
     "execution_count": 123,
     "metadata": {},
     "output_type": "execute_result"
    }
   ],
   "source": [
    "info.popitem()"
   ]
  },
  {
   "cell_type": "code",
   "execution_count": 129,
   "id": "285272b5",
   "metadata": {},
   "outputs": [
    {
     "data": {
      "text/plain": [
       "{'C': None, 'o': None, 'l': None, 'e': None, 'g': None}"
      ]
     },
     "execution_count": 129,
     "metadata": {},
     "output_type": "execute_result"
    }
   ],
   "source": [
    "info.fromkeys('College')"
   ]
  },
  {
   "cell_type": "code",
   "execution_count": 130,
   "id": "94fdbe36",
   "metadata": {},
   "outputs": [],
   "source": [
    "info.update({'Reg. No': '93'})"
   ]
  },
  {
   "cell_type": "code",
   "execution_count": 131,
   "id": "ae569b37",
   "metadata": {},
   "outputs": [
    {
     "data": {
      "text/plain": [
       "{'Name': 'Utkarsh Malla',\n",
       " 'College': 'Herald',\n",
       " 'Semester': '2',\n",
       " 'Reg. No': '93'}"
      ]
     },
     "execution_count": 131,
     "metadata": {},
     "output_type": "execute_result"
    }
   ],
   "source": [
    "info"
   ]
  },
  {
   "cell_type": "markdown",
   "id": "ed81cb06",
   "metadata": {},
   "source": [
    "# Tuples"
   ]
  },
  {
   "cell_type": "code",
   "execution_count": 132,
   "id": "e33828b0",
   "metadata": {},
   "outputs": [],
   "source": [
    "x=(1,2,3,'Hi')"
   ]
  },
  {
   "cell_type": "code",
   "execution_count": 134,
   "id": "cd85ffc3",
   "metadata": {},
   "outputs": [
    {
     "data": {
      "text/plain": [
       "1"
      ]
     },
     "execution_count": 134,
     "metadata": {},
     "output_type": "execute_result"
    }
   ],
   "source": [
    "x.count(1) #how many element is repeted"
   ]
  },
  {
   "cell_type": "code",
   "execution_count": 137,
   "id": "b5be7351",
   "metadata": {},
   "outputs": [
    {
     "data": {
      "text/plain": [
       "2"
      ]
     },
     "execution_count": 137,
     "metadata": {},
     "output_type": "execute_result"
    }
   ],
   "source": [
    "x[1] #indexing"
   ]
  },
  {
   "cell_type": "markdown",
   "id": "cc34a02b",
   "metadata": {},
   "source": [
    "# Tuples Continue...."
   ]
  },
  {
   "cell_type": "code",
   "execution_count": 1,
   "id": "47f754fa",
   "metadata": {},
   "outputs": [],
   "source": [
    "x= ('apple', 'banana', 'apple', 'grapes')"
   ]
  },
  {
   "cell_type": "code",
   "execution_count": 2,
   "id": "f996255e",
   "metadata": {},
   "outputs": [
    {
     "data": {
      "text/plain": [
       "('apple', 'banana', 'apple', 'grapes')"
      ]
     },
     "execution_count": 2,
     "metadata": {},
     "output_type": "execute_result"
    }
   ],
   "source": [
    "x"
   ]
  },
  {
   "cell_type": "code",
   "execution_count": 3,
   "id": "19467935",
   "metadata": {},
   "outputs": [
    {
     "data": {
      "text/plain": [
       "4"
      ]
     },
     "execution_count": 3,
     "metadata": {},
     "output_type": "execute_result"
    }
   ],
   "source": [
    "len(x) #count length"
   ]
  },
  {
   "cell_type": "code",
   "execution_count": 4,
   "id": "6fc42044",
   "metadata": {},
   "outputs": [
    {
     "data": {
      "text/plain": [
       "'apple'"
      ]
     },
     "execution_count": 4,
     "metadata": {},
     "output_type": "execute_result"
    }
   ],
   "source": [
    "x[2] #indexing"
   ]
  },
  {
   "cell_type": "code",
   "execution_count": 5,
   "id": "b65902cc",
   "metadata": {},
   "outputs": [
    {
     "data": {
      "text/plain": [
       "('apple', 'grapes')"
      ]
     },
     "execution_count": 5,
     "metadata": {},
     "output_type": "execute_result"
    }
   ],
   "source": [
    "x[2:5]"
   ]
  },
  {
   "cell_type": "code",
   "execution_count": 8,
   "id": "021ec2a7",
   "metadata": {},
   "outputs": [],
   "source": [
    "y=list(x) #change to list"
   ]
  },
  {
   "cell_type": "code",
   "execution_count": 9,
   "id": "47d30d33",
   "metadata": {},
   "outputs": [
    {
     "data": {
      "text/plain": [
       "['apple', 'banana', 'apple', 'grapes']"
      ]
     },
     "execution_count": 9,
     "metadata": {},
     "output_type": "execute_result"
    }
   ],
   "source": [
    "y"
   ]
  },
  {
   "cell_type": "code",
   "execution_count": 21,
   "id": "7436c10f",
   "metadata": {},
   "outputs": [],
   "source": [
    "y[1]='Kela'"
   ]
  },
  {
   "cell_type": "code",
   "execution_count": 22,
   "id": "95c051c9",
   "metadata": {},
   "outputs": [
    {
     "data": {
      "text/plain": [
       "['apple', 'Kela', 'Kela', 'grapes']"
      ]
     },
     "execution_count": 22,
     "metadata": {},
     "output_type": "execute_result"
    }
   ],
   "source": [
    "y"
   ]
  },
  {
   "cell_type": "code",
   "execution_count": 23,
   "id": "d48e2636",
   "metadata": {},
   "outputs": [],
   "source": [
    "y.insert(2,'Aap')"
   ]
  },
  {
   "cell_type": "code",
   "execution_count": 24,
   "id": "150a0690",
   "metadata": {},
   "outputs": [
    {
     "data": {
      "text/plain": [
       "['apple', 'Kela', 'Aap', 'Kela', 'grapes']"
      ]
     },
     "execution_count": 24,
     "metadata": {},
     "output_type": "execute_result"
    }
   ],
   "source": [
    "y"
   ]
  },
  {
   "cell_type": "code",
   "execution_count": null,
   "id": "85207ba0",
   "metadata": {},
   "outputs": [],
   "source": [
    "z=('apple')"
   ]
  }
 ],
 "metadata": {
  "kernelspec": {
   "display_name": "Python 3 (ipykernel)",
   "language": "python",
   "name": "python3"
  },
  "language_info": {
   "codemirror_mode": {
    "name": "ipython",
    "version": 3
   },
   "file_extension": ".py",
   "mimetype": "text/x-python",
   "name": "python",
   "nbconvert_exporter": "python",
   "pygments_lexer": "ipython3",
   "version": "3.11.1"
  }
 },
 "nbformat": 4,
 "nbformat_minor": 5
}
