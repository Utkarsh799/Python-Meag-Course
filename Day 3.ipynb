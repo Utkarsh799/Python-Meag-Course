{
 "cells": [
  {
   "cell_type": "markdown",
   "id": "90e6da94",
   "metadata": {},
   "source": [
    "# Operators"
   ]
  },
  {
   "cell_type": "markdown",
   "id": "0dcf4224",
   "metadata": {},
   "source": [
    "Arithmetic Operators"
   ]
  },
  {
   "cell_type": "code",
   "execution_count": 1,
   "id": "d1a52227",
   "metadata": {},
   "outputs": [
    {
     "name": "stdout",
     "output_type": "stream",
     "text": [
      "Enter First No:22\n",
      "Enter Second No:26\n"
     ]
    }
   ],
   "source": [
    "num1=int(input('Enter First No:'))\n",
    "num2=int(input('Enter Second No:'))"
   ]
  },
  {
   "cell_type": "code",
   "execution_count": 3,
   "id": "14615e42",
   "metadata": {},
   "outputs": [],
   "source": [
    "add=num1+num2\n",
    "sub=num1-num2\n",
    "mul=num1*num2\n",
    "div1=num1/num2\n",
    "div2=num1//num2\n",
    "exp=num1**num2\n",
    "mold=num1%num2"
   ]
  },
  {
   "cell_type": "code",
   "execution_count": 4,
   "id": "44ee4114",
   "metadata": {},
   "outputs": [
    {
     "data": {
      "text/plain": [
       "48"
      ]
     },
     "execution_count": 4,
     "metadata": {},
     "output_type": "execute_result"
    }
   ],
   "source": [
    "add"
   ]
  },
  {
   "cell_type": "code",
   "execution_count": 5,
   "id": "fcf44234",
   "metadata": {},
   "outputs": [
    {
     "data": {
      "text/plain": [
       "-4"
      ]
     },
     "execution_count": 5,
     "metadata": {},
     "output_type": "execute_result"
    }
   ],
   "source": [
    "sub"
   ]
  },
  {
   "cell_type": "code",
   "execution_count": 6,
   "id": "989d2298",
   "metadata": {},
   "outputs": [
    {
     "data": {
      "text/plain": [
       "572"
      ]
     },
     "execution_count": 6,
     "metadata": {},
     "output_type": "execute_result"
    }
   ],
   "source": [
    "mul"
   ]
  },
  {
   "cell_type": "code",
   "execution_count": 8,
   "id": "c168df1e",
   "metadata": {},
   "outputs": [
    {
     "data": {
      "text/plain": [
       "0.8461538461538461"
      ]
     },
     "execution_count": 8,
     "metadata": {},
     "output_type": "execute_result"
    }
   ],
   "source": [
    "div1"
   ]
  },
  {
   "cell_type": "code",
   "execution_count": 9,
   "id": "8d780dc7",
   "metadata": {},
   "outputs": [
    {
     "data": {
      "text/plain": [
       "0"
      ]
     },
     "execution_count": 9,
     "metadata": {},
     "output_type": "execute_result"
    }
   ],
   "source": [
    "div2"
   ]
  },
  {
   "cell_type": "code",
   "execution_count": 10,
   "id": "98a02453",
   "metadata": {},
   "outputs": [
    {
     "data": {
      "text/plain": [
       "79981528839832616637508874879893504"
      ]
     },
     "execution_count": 10,
     "metadata": {},
     "output_type": "execute_result"
    }
   ],
   "source": [
    "exp"
   ]
  },
  {
   "cell_type": "code",
   "execution_count": 11,
   "id": "f594dc93",
   "metadata": {},
   "outputs": [
    {
     "data": {
      "text/plain": [
       "22"
      ]
     },
     "execution_count": 11,
     "metadata": {},
     "output_type": "execute_result"
    }
   ],
   "source": [
    "mold"
   ]
  },
  {
   "cell_type": "markdown",
   "id": "32b3209c",
   "metadata": {},
   "source": [
    "Assignment Operators"
   ]
  },
  {
   "cell_type": "code",
   "execution_count": 16,
   "id": "3de05958",
   "metadata": {},
   "outputs": [
    {
     "name": "stdout",
     "output_type": "stream",
     "text": [
      "Enter Your Number:5\n"
     ]
    }
   ],
   "source": [
    "num1=int(input('Enter Your Number:'))"
   ]
  },
  {
   "cell_type": "code",
   "execution_count": 17,
   "id": "4726ff5f",
   "metadata": {},
   "outputs": [],
   "source": [
    "num1+=6"
   ]
  },
  {
   "cell_type": "code",
   "execution_count": 18,
   "id": "d3236592",
   "metadata": {},
   "outputs": [
    {
     "data": {
      "text/plain": [
       "11"
      ]
     },
     "execution_count": 18,
     "metadata": {},
     "output_type": "execute_result"
    }
   ],
   "source": [
    "num1"
   ]
  },
  {
   "cell_type": "code",
   "execution_count": 19,
   "id": "2496577b",
   "metadata": {},
   "outputs": [],
   "source": [
    "num1-=8\n"
   ]
  },
  {
   "cell_type": "code",
   "execution_count": 20,
   "id": "45399cff",
   "metadata": {},
   "outputs": [
    {
     "data": {
      "text/plain": [
       "3"
      ]
     },
     "execution_count": 20,
     "metadata": {},
     "output_type": "execute_result"
    }
   ],
   "source": [
    "num1"
   ]
  },
  {
   "cell_type": "code",
   "execution_count": 21,
   "id": "bf94d10a",
   "metadata": {},
   "outputs": [],
   "source": [
    "num1*=5"
   ]
  },
  {
   "cell_type": "code",
   "execution_count": 22,
   "id": "03045727",
   "metadata": {},
   "outputs": [
    {
     "data": {
      "text/plain": [
       "15"
      ]
     },
     "execution_count": 22,
     "metadata": {},
     "output_type": "execute_result"
    }
   ],
   "source": [
    "num1"
   ]
  },
  {
   "cell_type": "code",
   "execution_count": 30,
   "id": "809af13e",
   "metadata": {},
   "outputs": [],
   "source": [
    "num1/=3"
   ]
  },
  {
   "cell_type": "code",
   "execution_count": 31,
   "id": "6597e389",
   "metadata": {},
   "outputs": [
    {
     "data": {
      "text/plain": [
       "0.3333333333333333"
      ]
     },
     "execution_count": 31,
     "metadata": {},
     "output_type": "execute_result"
    }
   ],
   "source": [
    "num1"
   ]
  },
  {
   "cell_type": "code",
   "execution_count": 34,
   "id": "9e4be9d0",
   "metadata": {},
   "outputs": [],
   "source": [
    "num1**=2"
   ]
  },
  {
   "cell_type": "code",
   "execution_count": 35,
   "id": "22578e87",
   "metadata": {},
   "outputs": [
    {
     "data": {
      "text/plain": [
       "1.3929555690985346e-24"
      ]
     },
     "execution_count": 35,
     "metadata": {},
     "output_type": "execute_result"
    }
   ],
   "source": [
    "num1"
   ]
  },
  {
   "cell_type": "code",
   "execution_count": 36,
   "id": "629f5af3",
   "metadata": {},
   "outputs": [],
   "source": [
    "num1%=2"
   ]
  },
  {
   "cell_type": "code",
   "execution_count": 37,
   "id": "d6c34aba",
   "metadata": {},
   "outputs": [
    {
     "data": {
      "text/plain": [
       "1.3929555690985346e-24"
      ]
     },
     "execution_count": 37,
     "metadata": {},
     "output_type": "execute_result"
    }
   ],
   "source": [
    "num1"
   ]
  },
  {
   "cell_type": "markdown",
   "id": "252fa1f4",
   "metadata": {},
   "source": [
    "Comparison Operators"
   ]
  },
  {
   "cell_type": "code",
   "execution_count": 39,
   "id": "14b1e9be",
   "metadata": {},
   "outputs": [
    {
     "name": "stdout",
     "output_type": "stream",
     "text": [
      "Enter First No:5\n",
      "Enter Second No:6\n"
     ]
    }
   ],
   "source": [
    "x=int(input('Enter First No:'))\n",
    "y=int(input('Enter Second No:'))"
   ]
  },
  {
   "cell_type": "code",
   "execution_count": 40,
   "id": "5d0eb290",
   "metadata": {},
   "outputs": [
    {
     "data": {
      "text/plain": [
       "False"
      ]
     },
     "execution_count": 40,
     "metadata": {},
     "output_type": "execute_result"
    }
   ],
   "source": [
    "x==y #equals to"
   ]
  },
  {
   "cell_type": "code",
   "execution_count": 41,
   "id": "95a5ddf8",
   "metadata": {},
   "outputs": [
    {
     "data": {
      "text/plain": [
       "False"
      ]
     },
     "execution_count": 41,
     "metadata": {},
     "output_type": "execute_result"
    }
   ],
   "source": [
    "x>y #greater than"
   ]
  },
  {
   "cell_type": "code",
   "execution_count": 42,
   "id": "129334af",
   "metadata": {},
   "outputs": [
    {
     "data": {
      "text/plain": [
       "True"
      ]
     },
     "execution_count": 42,
     "metadata": {},
     "output_type": "execute_result"
    }
   ],
   "source": [
    "x<y #less than"
   ]
  },
  {
   "cell_type": "code",
   "execution_count": 43,
   "id": "6cb54ca9",
   "metadata": {},
   "outputs": [
    {
     "data": {
      "text/plain": [
       "True"
      ]
     },
     "execution_count": 43,
     "metadata": {},
     "output_type": "execute_result"
    }
   ],
   "source": [
    "x!=y #not equalto"
   ]
  },
  {
   "cell_type": "code",
   "execution_count": 44,
   "id": "f31f586e",
   "metadata": {},
   "outputs": [
    {
     "data": {
      "text/plain": [
       "False"
      ]
     },
     "execution_count": 44,
     "metadata": {},
     "output_type": "execute_result"
    }
   ],
   "source": [
    "x>=y #greater equal to"
   ]
  },
  {
   "cell_type": "code",
   "execution_count": 46,
   "id": "08dba4a5",
   "metadata": {},
   "outputs": [
    {
     "data": {
      "text/plain": [
       "True"
      ]
     },
     "execution_count": 46,
     "metadata": {},
     "output_type": "execute_result"
    }
   ],
   "source": [
    "x<=y #less equal to"
   ]
  },
  {
   "cell_type": "markdown",
   "id": "02825509",
   "metadata": {},
   "source": [
    "Logical Operators"
   ]
  },
  {
   "cell_type": "code",
   "execution_count": 47,
   "id": "72894b22",
   "metadata": {},
   "outputs": [
    {
     "data": {
      "text/plain": [
       "True"
      ]
     },
     "execution_count": 47,
     "metadata": {},
     "output_type": "execute_result"
    }
   ],
   "source": [
    "2<3 and 1>0 #and operator"
   ]
  },
  {
   "cell_type": "code",
   "execution_count": 50,
   "id": "68de9a88",
   "metadata": {},
   "outputs": [
    {
     "data": {
      "text/plain": [
       "True"
      ]
     },
     "execution_count": 50,
     "metadata": {},
     "output_type": "execute_result"
    }
   ],
   "source": [
    "2<3 or 1<0 #or operator"
   ]
  },
  {
   "cell_type": "code",
   "execution_count": 51,
   "id": "a316db2e",
   "metadata": {},
   "outputs": [
    {
     "data": {
      "text/plain": [
       "False"
      ]
     },
     "execution_count": 51,
     "metadata": {},
     "output_type": "execute_result"
    }
   ],
   "source": [
    "not(2<3 and 1>0) #not operator"
   ]
  },
  {
   "cell_type": "markdown",
   "id": "799f0354",
   "metadata": {},
   "source": [
    "# Data Types"
   ]
  },
  {
   "cell_type": "markdown",
   "id": "811e3cda",
   "metadata": {},
   "source": [
    "String"
   ]
  },
  {
   "cell_type": "code",
   "execution_count": 10,
   "id": "32519410",
   "metadata": {},
   "outputs": [],
   "source": [
    "x='I am a Python Developer'"
   ]
  },
  {
   "cell_type": "code",
   "execution_count": 55,
   "id": "2af1e330",
   "metadata": {},
   "outputs": [
    {
     "data": {
      "text/plain": [
       "23"
      ]
     },
     "execution_count": 55,
     "metadata": {},
     "output_type": "execute_result"
    }
   ],
   "source": [
    "len(x) #for counting length"
   ]
  },
  {
   "cell_type": "code",
   "execution_count": 56,
   "id": "fb70e8e9",
   "metadata": {},
   "outputs": [
    {
     "data": {
      "text/plain": [
       "'t'"
      ]
     },
     "execution_count": 56,
     "metadata": {},
     "output_type": "execute_result"
    }
   ],
   "source": [
    "x[9] #indexing"
   ]
  },
  {
   "cell_type": "code",
   "execution_count": 60,
   "id": "b2c5e08e",
   "metadata": {},
   "outputs": [
    {
     "data": {
      "text/plain": [
       "'Python'"
      ]
     },
     "execution_count": 60,
     "metadata": {},
     "output_type": "execute_result"
    }
   ],
   "source": [
    "x[7:13] #indexing word"
   ]
  },
  {
   "cell_type": "code",
   "execution_count": 61,
   "id": "0bb49e9f",
   "metadata": {},
   "outputs": [
    {
     "data": {
      "text/plain": [
       "'Developer'"
      ]
     },
     "execution_count": 61,
     "metadata": {},
     "output_type": "execute_result"
    }
   ],
   "source": [
    "x[14:24] #for counting a word take below position value of first word and above position value of last word"
   ]
  },
  {
   "cell_type": "code",
   "execution_count": 62,
   "id": "87a19ac8",
   "metadata": {},
   "outputs": [
    {
     "data": {
      "text/plain": [
       "'Python Developer'"
      ]
     },
     "execution_count": 62,
     "metadata": {},
     "output_type": "execute_result"
    }
   ],
   "source": [
    "x[7::] #print all words after 7 position"
   ]
  },
  {
   "cell_type": "code",
   "execution_count": 64,
   "id": "2354c3ec",
   "metadata": {},
   "outputs": [
    {
     "data": {
      "text/plain": [
       "'r'"
      ]
     },
     "execution_count": 64,
     "metadata": {},
     "output_type": "execute_result"
    }
   ],
   "source": [
    "x[-1] #for reverse counting"
   ]
  },
  {
   "cell_type": "code",
   "execution_count": 74,
   "id": "79dd4898",
   "metadata": {},
   "outputs": [
    {
     "data": {
      "text/plain": [
       "'Develope'"
      ]
     },
     "execution_count": 74,
     "metadata": {},
     "output_type": "execute_result"
    }
   ],
   "source": [
    "x[-9:-1]"
   ]
  },
  {
   "cell_type": "code",
   "execution_count": 75,
   "id": "e5a41542",
   "metadata": {},
   "outputs": [
    {
     "data": {
      "text/plain": [
       "'repoleveD nohtyP a ma I'"
      ]
     },
     "execution_count": 75,
     "metadata": {},
     "output_type": "execute_result"
    }
   ],
   "source": [
    "x[::-1]"
   ]
  },
  {
   "cell_type": "code",
   "execution_count": 11,
   "id": "32a3cbf3",
   "metadata": {},
   "outputs": [],
   "source": [
    "y=x.split() #it helps to seperate word"
   ]
  },
  {
   "cell_type": "code",
   "execution_count": 5,
   "id": "58ff6c81",
   "metadata": {},
   "outputs": [],
   "source": [
    "a= 'I/am/a/python/Developer'"
   ]
  },
  {
   "cell_type": "code",
   "execution_count": 9,
   "id": "43e62fbd",
   "metadata": {},
   "outputs": [],
   "source": [
    "b=a.split('/') #use sign that is used to seperate the word i.e /, space"
   ]
  },
  {
   "cell_type": "code",
   "execution_count": 7,
   "id": "c7fa9db3",
   "metadata": {},
   "outputs": [
    {
     "data": {
      "text/plain": [
       "['I', 'am', 'a', 'python', 'Developer']"
      ]
     },
     "execution_count": 7,
     "metadata": {},
     "output_type": "execute_result"
    }
   ],
   "source": [
    "b"
   ]
  },
  {
   "cell_type": "code",
   "execution_count": 14,
   "id": "a280460a",
   "metadata": {},
   "outputs": [
    {
     "data": {
      "text/plain": [
       "'i am a python developer'"
      ]
     },
     "execution_count": 14,
     "metadata": {},
     "output_type": "execute_result"
    }
   ],
   "source": [
    "x.casefold() #change capital first word to small"
   ]
  },
  {
   "cell_type": "code",
   "execution_count": 34,
   "id": "47897fb0",
   "metadata": {},
   "outputs": [
    {
     "data": {
      "text/plain": [
       "3"
      ]
     },
     "execution_count": 34,
     "metadata": {},
     "output_type": "execute_result"
    }
   ],
   "source": [
    "x.count('e') #count word position"
   ]
  },
  {
   "cell_type": "code",
   "execution_count": 22,
   "id": "f8ecff4e",
   "metadata": {},
   "outputs": [],
   "source": [
    "str1='i am utkarsh'"
   ]
  },
  {
   "cell_type": "code",
   "execution_count": 23,
   "id": "20a0d655",
   "metadata": {},
   "outputs": [
    {
     "data": {
      "text/plain": [
       "'I am utkarsh'"
      ]
     },
     "execution_count": 23,
     "metadata": {},
     "output_type": "execute_result"
    }
   ],
   "source": [
    "str1.capitalize() #make first alphabet capital"
   ]
  },
  {
   "cell_type": "code",
   "execution_count": 29,
   "id": "e7021b4d",
   "metadata": {},
   "outputs": [
    {
     "data": {
      "text/plain": [
       "'    i am utkarsh    '"
      ]
     },
     "execution_count": 29,
     "metadata": {},
     "output_type": "execute_result"
    }
   ],
   "source": [
    "str1.center(20) #it helps to make in center"
   ]
  },
  {
   "cell_type": "code",
   "execution_count": 27,
   "id": "e0cdd5cf",
   "metadata": {},
   "outputs": [
    {
     "data": {
      "text/plain": [
       "b'i am utkarsh'"
      ]
     },
     "execution_count": 27,
     "metadata": {},
     "output_type": "execute_result"
    }
   ],
   "source": [
    "str1.encode()"
   ]
  },
  {
   "cell_type": "code",
   "execution_count": 44,
   "id": "fb262ba3",
   "metadata": {},
   "outputs": [
    {
     "data": {
      "text/plain": [
       "False"
      ]
     },
     "execution_count": 44,
     "metadata": {},
     "output_type": "execute_result"
    }
   ],
   "source": [
    "x.endswith('n') #check it end with the word or not"
   ]
  },
  {
   "cell_type": "code",
   "execution_count": 42,
   "id": "0bc76e03",
   "metadata": {},
   "outputs": [
    {
     "data": {
      "text/plain": [
       "'I am a Python Developer'"
      ]
     },
     "execution_count": 42,
     "metadata": {},
     "output_type": "execute_result"
    }
   ],
   "source": [
    "x.expandtabs()"
   ]
  },
  {
   "cell_type": "code",
   "execution_count": null,
   "id": "1781d9c0",
   "metadata": {},
   "outputs": [],
   "source": []
  }
 ],
 "metadata": {
  "kernelspec": {
   "display_name": "Python 3 (ipykernel)",
   "language": "python",
   "name": "python3"
  },
  "language_info": {
   "codemirror_mode": {
    "name": "ipython",
    "version": 3
   },
   "file_extension": ".py",
   "mimetype": "text/x-python",
   "name": "python",
   "nbconvert_exporter": "python",
   "pygments_lexer": "ipython3",
   "version": "3.11.1"
  }
 },
 "nbformat": 4,
 "nbformat_minor": 5
}
