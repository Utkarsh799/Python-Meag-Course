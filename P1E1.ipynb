{
 "cells": [
  {
   "cell_type": "code",
   "execution_count": 9,
   "id": "2c69c1a7",
   "metadata": {},
   "outputs": [
    {
     "name": "stdout",
     "output_type": "stream",
     "text": [
      "Enter name:Utkarsh\n"
     ]
    }
   ],
   "source": [
    "name = input(\"Enter name\")"
   ]
  },
  {
   "cell_type": "code",
   "execution_count": 10,
   "id": "fb4de666",
   "metadata": {},
   "outputs": [
    {
     "name": "stdout",
     "output_type": "stream",
     "text": [
      "Enter age19\n"
     ]
    }
   ],
   "source": [
    "age= input(\"Enter age\")"
   ]
  },
  {
   "cell_type": "code",
   "execution_count": 17,
   "id": "01e1519a",
   "metadata": {},
   "outputs": [],
   "source": [
    "c=5"
   ]
  },
  {
   "cell_type": "code",
   "execution_count": 18,
   "id": "1255382f",
   "metadata": {},
   "outputs": [],
   "source": [
    "b=6"
   ]
  },
  {
   "cell_type": "code",
   "execution_count": 21,
   "id": "e411932d",
   "metadata": {},
   "outputs": [],
   "source": [
    "sum1=c+b"
   ]
  },
  {
   "cell_type": "code",
   "execution_count": 22,
   "id": "5490b9e2",
   "metadata": {},
   "outputs": [
    {
     "name": "stdout",
     "output_type": "stream",
     "text": [
      "11\n"
     ]
    }
   ],
   "source": [
    "print(sum1)"
   ]
  },
  {
   "cell_type": "code",
   "execution_count": 27,
   "id": "b06fb9f3",
   "metadata": {},
   "outputs": [],
   "source": [
    "div=c/b"
   ]
  },
  {
   "cell_type": "code",
   "execution_count": 28,
   "id": "1e49adc5",
   "metadata": {},
   "outputs": [
    {
     "name": "stdout",
     "output_type": "stream",
     "text": [
      "0.8333333333333334\n"
     ]
    }
   ],
   "source": [
    "print(div)"
   ]
  },
  {
   "cell_type": "code",
   "execution_count": null,
   "id": "1da0f6e4",
   "metadata": {},
   "outputs": [],
   "source": []
  }
 ],
 "metadata": {
  "kernelspec": {
   "display_name": "Python 3 (ipykernel)",
   "language": "python",
   "name": "python3"
  },
  "language_info": {
   "codemirror_mode": {
    "name": "ipython",
    "version": 3
   },
   "file_extension": ".py",
   "mimetype": "text/x-python",
   "name": "python",
   "nbconvert_exporter": "python",
   "pygments_lexer": "ipython3",
   "version": "3.11.1"
  }
 },
 "nbformat": 4,
 "nbformat_minor": 5
}
