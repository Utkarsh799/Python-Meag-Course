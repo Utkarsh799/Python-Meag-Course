{
 "cells": [
  {
   "cell_type": "code",
   "execution_count": 2,
   "id": "37f431aa",
   "metadata": {},
   "outputs": [
    {
     "name": "stdout",
     "output_type": "stream",
     "text": [
      "hello hex\n"
     ]
    }
   ],
   "source": [
    "print('hello hex')"
   ]
  },
  {
   "cell_type": "code",
   "execution_count": 12,
   "id": "c24cc53c",
   "metadata": {},
   "outputs": [],
   "source": [
    "x='hex'\n"
   ]
  },
  {
   "cell_type": "code",
   "execution_count": 13,
   "id": "13085460",
   "metadata": {},
   "outputs": [],
   "source": [
    "y='mex'"
   ]
  },
  {
   "cell_type": "code",
   "execution_count": 14,
   "id": "4abb6e98",
   "metadata": {},
   "outputs": [],
   "source": [
    "z=x+y"
   ]
  },
  {
   "cell_type": "code",
   "execution_count": 17,
   "id": "0a0ef284",
   "metadata": {},
   "outputs": [
    {
     "name": "stdout",
     "output_type": "stream",
     "text": [
      "hexmex\n"
     ]
    }
   ],
   "source": [
    "print(z)\n",
    "\n",
    "\n"
   ]
  },
  {
   "cell_type": "code",
   "execution_count": 18,
   "id": "e95d6fe6",
   "metadata": {},
   "outputs": [],
   "source": [
    "z=x+''+y"
   ]
  },
  {
   "cell_type": "code",
   "execution_count": 19,
   "id": "5e27980b",
   "metadata": {},
   "outputs": [
    {
     "name": "stdout",
     "output_type": "stream",
     "text": [
      "hexmex\n"
     ]
    }
   ],
   "source": [
    "print(z)"
   ]
  },
  {
   "cell_type": "code",
   "execution_count": 1,
   "id": "efe9c3ab",
   "metadata": {},
   "outputs": [
    {
     "name": "stdout",
     "output_type": "stream",
     "text": [
      "Enter First Name:Utkarsh\n",
      "Enter Last Name:Malla\n"
     ]
    }
   ],
   "source": [
    "name=input(\"Enter First Name:\")\n",
    "lastname=input(\"Enter Last Name:\")"
   ]
  },
  {
   "cell_type": "code",
   "execution_count": 7,
   "id": "fe0d70db",
   "metadata": {},
   "outputs": [
    {
     "name": "stdout",
     "output_type": "stream",
     "text": [
      "Your name is Utkarsh Malla\n"
     ]
    }
   ],
   "source": [
    "print('Your name is ' +name+' '+lastname)"
   ]
  },
  {
   "cell_type": "code",
   "execution_count": 8,
   "id": "d0f81a33",
   "metadata": {},
   "outputs": [
    {
     "name": "stdout",
     "output_type": "stream",
     "text": [
      "Enter First Name:69\n"
     ]
    }
   ],
   "source": [
    "num1=int(input('Enter First Number:'))"
   ]
  },
  {
   "cell_type": "code",
   "execution_count": 9,
   "id": "9c36a3be",
   "metadata": {},
   "outputs": [
    {
     "name": "stdout",
     "output_type": "stream",
     "text": [
      "Enter SEcond Number:89\n"
     ]
    }
   ],
   "source": [
    "num2=int(input('Enter Second Number:'))"
   ]
  },
  {
   "cell_type": "code",
   "execution_count": 10,
   "id": "6728fc1c",
   "metadata": {},
   "outputs": [],
   "source": [
    "sum1=num1+num2"
   ]
  },
  {
   "cell_type": "code",
   "execution_count": 25,
   "id": "7096188b",
   "metadata": {},
   "outputs": [
    {
     "data": {
      "text/plain": [
       "158"
      ]
     },
     "execution_count": 25,
     "metadata": {},
     "output_type": "execute_result"
    }
   ],
   "source": [
    "sum1"
   ]
  },
  {
   "cell_type": "code",
   "execution_count": 12,
   "id": "ada198b4",
   "metadata": {},
   "outputs": [
    {
     "name": "stdout",
     "output_type": "stream",
     "text": [
      "Enter first no:52.5\n"
     ]
    }
   ],
   "source": [
    "n1=float(input('Enter first no:'))"
   ]
  },
  {
   "cell_type": "code",
   "execution_count": 13,
   "id": "97a691b5",
   "metadata": {},
   "outputs": [
    {
     "name": "stdout",
     "output_type": "stream",
     "text": [
      "Enter second no:50.4\n"
     ]
    }
   ],
   "source": [
    "n2=float(input('Enter second no:'))"
   ]
  },
  {
   "cell_type": "code",
   "execution_count": 14,
   "id": "28ded921",
   "metadata": {},
   "outputs": [],
   "source": [
    "diff=n1-n2"
   ]
  },
  {
   "cell_type": "code",
   "execution_count": 15,
   "id": "d4b43254",
   "metadata": {},
   "outputs": [
    {
     "data": {
      "text/plain": [
       "2.1000000000000014"
      ]
     },
     "execution_count": 15,
     "metadata": {},
     "output_type": "execute_result"
    }
   ],
   "source": [
    "diff\n"
   ]
  },
  {
   "cell_type": "code",
   "execution_count": 16,
   "id": "b9529985",
   "metadata": {},
   "outputs": [
    {
     "name": "stdout",
     "output_type": "stream",
     "text": [
      "Enter first no:55.56\n"
     ]
    }
   ],
   "source": [
    "m1=float(input('Enter first no:'))"
   ]
  },
  {
   "cell_type": "code",
   "execution_count": 17,
   "id": "e35a2e65",
   "metadata": {},
   "outputs": [
    {
     "name": "stdout",
     "output_type": "stream",
     "text": [
      "Enter seconf no:565.64\n"
     ]
    }
   ],
   "source": [
    "m2=float(input('Enter second no:'))"
   ]
  },
  {
   "cell_type": "code",
   "execution_count": 20,
   "id": "0bc3eab6",
   "metadata": {},
   "outputs": [],
   "source": [
    "mula=m1*m2"
   ]
  },
  {
   "cell_type": "code",
   "execution_count": 26,
   "id": "5b334528",
   "metadata": {},
   "outputs": [
    {
     "name": "stdout",
     "output_type": "stream",
     "text": [
      "The Muiltply is 31426.9584\n"
     ]
    }
   ],
   "source": [
    "print('The Muiltply is',mul)"
   ]
  },
  {
   "cell_type": "code",
   "execution_count": null,
   "id": "d23fab07",
   "metadata": {},
   "outputs": [],
   "source": []
  }
 ],
 "metadata": {
  "kernelspec": {
   "display_name": "Python 3 (ipykernel)",
   "language": "python",
   "name": "python3"
  },
  "language_info": {
   "codemirror_mode": {
    "name": "ipython",
    "version": 3
   },
   "file_extension": ".py",
   "mimetype": "text/x-python",
   "name": "python",
   "nbconvert_exporter": "python",
   "pygments_lexer": "ipython3",
   "version": "3.11.1"
  }
 },
 "nbformat": 4,
 "nbformat_minor": 5
}
