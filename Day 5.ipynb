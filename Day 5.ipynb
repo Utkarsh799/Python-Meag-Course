{
 "cells": [
  {
   "cell_type": "markdown",
   "id": "eb083697",
   "metadata": {},
   "source": [
    "# SET"
   ]
  },
  {
   "cell_type": "code",
   "execution_count": 1,
   "id": "9bcf47a4",
   "metadata": {},
   "outputs": [],
   "source": [
    "s1={'1,2,3,4,5,6'}"
   ]
  },
  {
   "cell_type": "code",
   "execution_count": 2,
   "id": "0bb4656a",
   "metadata": {},
   "outputs": [
    {
     "data": {
      "text/plain": [
       "set"
      ]
     },
     "execution_count": 2,
     "metadata": {},
     "output_type": "execute_result"
    }
   ],
   "source": [
    "type(s1)"
   ]
  },
  {
   "cell_type": "code",
   "execution_count": 5,
   "id": "9bacfc49",
   "metadata": {},
   "outputs": [],
   "source": [
    "s2={1,1,1,2,3,4,5,6,6,7,7} #set doesnt allow duplication"
   ]
  },
  {
   "cell_type": "code",
   "execution_count": 6,
   "id": "d1b85b88",
   "metadata": {},
   "outputs": [
    {
     "data": {
      "text/plain": [
       "{1, 2, 3, 4, 5, 6, 7}"
      ]
     },
     "execution_count": 6,
     "metadata": {},
     "output_type": "execute_result"
    }
   ],
   "source": [
    "s2"
   ]
  },
  {
   "cell_type": "code",
   "execution_count": 7,
   "id": "ef73192c",
   "metadata": {},
   "outputs": [
    {
     "data": {
      "text/plain": [
       "7"
      ]
     },
     "execution_count": 7,
     "metadata": {},
     "output_type": "execute_result"
    }
   ],
   "source": [
    "len(s2)"
   ]
  },
  {
   "cell_type": "code",
   "execution_count": 8,
   "id": "43b4275a",
   "metadata": {},
   "outputs": [],
   "source": [
    "s2.add('hi')"
   ]
  },
  {
   "cell_type": "code",
   "execution_count": 9,
   "id": "c3dd45a0",
   "metadata": {},
   "outputs": [
    {
     "data": {
      "text/plain": [
       "{1, 2, 3, 4, 5, 6, 7, 'hi'}"
      ]
     },
     "execution_count": 9,
     "metadata": {},
     "output_type": "execute_result"
    }
   ],
   "source": [
    "s2"
   ]
  },
  {
   "cell_type": "code",
   "execution_count": 11,
   "id": "b7b3fa45",
   "metadata": {},
   "outputs": [],
   "source": [
    "s2.remove(6)"
   ]
  },
  {
   "cell_type": "code",
   "execution_count": 12,
   "id": "27759800",
   "metadata": {},
   "outputs": [
    {
     "data": {
      "text/plain": [
       "{1, 2, 3, 4, 5, 7, 'hi'}"
      ]
     },
     "execution_count": 12,
     "metadata": {},
     "output_type": "execute_result"
    }
   ],
   "source": [
    "s2"
   ]
  },
  {
   "cell_type": "code",
   "execution_count": 13,
   "id": "df36f81a",
   "metadata": {},
   "outputs": [
    {
     "name": "stdout",
     "output_type": "stream",
     "text": [
      "1\n",
      "2\n",
      "3\n",
      "4\n",
      "5\n",
      "7\n",
      "hi\n"
     ]
    }
   ],
   "source": [
    "for i in s2:\n",
    "    print(i)"
   ]
  },
  {
   "cell_type": "code",
   "execution_count": 14,
   "id": "795ff770",
   "metadata": {},
   "outputs": [],
   "source": [
    "y=list(s2) #change to list"
   ]
  },
  {
   "cell_type": "code",
   "execution_count": 15,
   "id": "c995932e",
   "metadata": {},
   "outputs": [
    {
     "data": {
      "text/plain": [
       "[1, 2, 3, 4, 5, 7, 'hi']"
      ]
     },
     "execution_count": 15,
     "metadata": {},
     "output_type": "execute_result"
    }
   ],
   "source": [
    "y"
   ]
  },
  {
   "cell_type": "code",
   "execution_count": 16,
   "id": "0bc8f8cc",
   "metadata": {},
   "outputs": [],
   "source": [
    "y[6]='Hexcode' #replace"
   ]
  },
  {
   "cell_type": "code",
   "execution_count": 17,
   "id": "a0d70da1",
   "metadata": {},
   "outputs": [
    {
     "data": {
      "text/plain": [
       "[1, 2, 3, 4, 5, 7, 'Hexcode']"
      ]
     },
     "execution_count": 17,
     "metadata": {},
     "output_type": "execute_result"
    }
   ],
   "source": [
    "y"
   ]
  },
  {
   "cell_type": "code",
   "execution_count": 20,
   "id": "c16e0488",
   "metadata": {},
   "outputs": [],
   "source": [
    "z=set(y) #change to set"
   ]
  },
  {
   "cell_type": "code",
   "execution_count": 21,
   "id": "4693981e",
   "metadata": {},
   "outputs": [
    {
     "data": {
      "text/plain": [
       "{1, 2, 3, 4, 5, 7, 'Hexcode'}"
      ]
     },
     "execution_count": 21,
     "metadata": {},
     "output_type": "execute_result"
    }
   ],
   "source": [
    "z"
   ]
  },
  {
   "cell_type": "markdown",
   "id": "be0dbc29",
   "metadata": {},
   "source": [
    "\n",
    "# If Else Statement"
   ]
  },
  {
   "cell_type": "code",
   "execution_count": 22,
   "id": "8d4df332",
   "metadata": {},
   "outputs": [
    {
     "name": "stdout",
     "output_type": "stream",
     "text": [
      "Enter Any No:5\n"
     ]
    }
   ],
   "source": [
    "x=int(input('Enter Any No:'))"
   ]
  },
  {
   "cell_type": "code",
   "execution_count": 24,
   "id": "48780c0f",
   "metadata": {},
   "outputs": [
    {
     "name": "stdout",
     "output_type": "stream",
     "text": [
      "Number is Odd\n"
     ]
    }
   ],
   "source": [
    "if x%2==0:\n",
    "    print('Number is Even')\n",
    "else:\n",
    "    print('Number is Odd')"
   ]
  },
  {
   "cell_type": "code",
   "execution_count": 29,
   "id": "6d2858a8",
   "metadata": {},
   "outputs": [
    {
     "name": "stdout",
     "output_type": "stream",
     "text": [
      "Enter a NO:0\n"
     ]
    }
   ],
   "source": [
    "y=float(input('Enter a NO:'))"
   ]
  },
  {
   "cell_type": "code",
   "execution_count": 32,
   "id": "02084ca0",
   "metadata": {},
   "outputs": [
    {
     "name": "stdout",
     "output_type": "stream",
     "text": [
      "Number is Odd\n"
     ]
    }
   ],
   "source": [
    "if x%2==0:\n",
    "    print('Number is Even')\n",
    "elif x%2==1:\n",
    "    print('Number is Odd')\n",
    "else:\n",
    "    print('Enter interger')"
   ]
  },
  {
   "cell_type": "markdown",
   "id": "ce67557e",
   "metadata": {},
   "source": [
    "Exercise:\n",
    "    1)Take marks as input from user\n",
    "    2.Classidy the division using following reference\n",
    "     i.Marks is greater than equal to 80-Distinction\n",
    "     ii. Greater equal to 60 and less than 80- First Division\n",
    "     iii.Greater equal to 40 and less than 60- Second Division\n",
    "     iv. less than 40 - kamm xaina(FAIL)\n",
    "     v. Else invalid marks\n",
    "     "
   ]
  },
  {
   "cell_type": "code",
   "execution_count": 35,
   "id": "ac13c0f9",
   "metadata": {},
   "outputs": [
    {
     "name": "stdout",
     "output_type": "stream",
     "text": [
      "Enter a marks:85\n"
     ]
    }
   ],
   "source": [
    "m=float(input('Enter a marks:'))"
   ]
  },
  {
   "cell_type": "code",
   "execution_count": 38,
   "id": "099806ba",
   "metadata": {},
   "outputs": [
    {
     "name": "stdout",
     "output_type": "stream",
     "text": [
      "Distinction\n"
     ]
    }
   ],
   "source": [
    "if m>=80 and m<=100:\n",
    "    print('Distinction')\n",
    "elif m>=60:\n",
    "    print('First Division')\n",
    "elif m>=40 and m>60:\n",
    "    print('Second Division')\n",
    "elif m<40:\n",
    "    print('FAIl')\n",
    "else:\n",
    "    print('Invalid Marks')"
   ]
  },
  {
   "cell_type": "code",
   "execution_count": null,
   "id": "d9b6fa49",
   "metadata": {},
   "outputs": [],
   "source": []
  }
 ],
 "metadata": {
  "kernelspec": {
   "display_name": "Python 3 (ipykernel)",
   "language": "python",
   "name": "python3"
  },
  "language_info": {
   "codemirror_mode": {
    "name": "ipython",
    "version": 3
   },
   "file_extension": ".py",
   "mimetype": "text/x-python",
   "name": "python",
   "nbconvert_exporter": "python",
   "pygments_lexer": "ipython3",
   "version": "3.11.1"
  }
 },
 "nbformat": 4,
 "nbformat_minor": 5
}
